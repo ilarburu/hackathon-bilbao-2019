{
 "cells": [
  {
   "cell_type": "code",
   "execution_count": 35,
   "metadata": {},
   "outputs": [],
   "source": [
    "from qiskit import *\n",
    "from qiskit.tools.visualization import plot_histogram\n",
    "\n",
    "%matplotlib inline"
   ]
  },
  {
   "cell_type": "code",
   "execution_count": 36,
   "metadata": {},
   "outputs": [
    {
     "data": {
      "text/plain": [
       "{'qiskit-terra': '0.10.0',\n",
       " 'qiskit-aer': '0.3.2',\n",
       " 'qiskit-ignis': '0.2.0',\n",
       " 'qiskit-ibmq-provider': '0.3.3',\n",
       " 'qiskit-aqua': '0.6.1',\n",
       " 'qiskit': '0.13.0'}"
      ]
     },
     "execution_count": 36,
     "metadata": {},
     "output_type": "execute_result"
    }
   ],
   "source": [
    "qiskit.__iskit_version__"
   ]
  },
  {
   "cell_type": "code",
   "execution_count": 37,
   "metadata": {},
   "outputs": [],
   "source": [
    "from qiskit import *"
   ]
  },
  {
   "cell_type": "code",
   "execution_count": 38,
   "metadata": {},
   "outputs": [],
   "source": [
    "qr = QuantumRegister(5)"
   ]
  },
  {
   "cell_type": "code",
   "execution_count": 39,
   "metadata": {},
   "outputs": [],
   "source": [
    "cr = ClassicalRegister(5)"
   ]
  },
  {
   "cell_type": "code",
   "execution_count": 40,
   "metadata": {},
   "outputs": [],
   "source": [
    "circuit = QuantumCircuit(qr, cr)"
   ]
  },
  {
   "cell_type": "code",
   "execution_count": 41,
   "metadata": {},
   "outputs": [],
   "source": [
    "%matplotlib inline"
   ]
  },
  {
   "cell_type": "code",
   "execution_count": 70,
   "metadata": {},
   "outputs": [
    {
     "data": {
      "text/html": [
       "<pre style=\"word-wrap: normal;white-space: pre;background: #fff0;line-height: 1.1;font-family: &quot;Courier New&quot;,Courier,monospace\">         ┌───┐          ┌─┐                                                   »\n",
       "q1_0: |0>┤ H ├──■───────┤M├───────────────────────────────────────────────────»\n",
       "         └───┘┌─┴─┐┌───┐└╥┘          ┌─┐     ┌─┐                              »\n",
       "q1_1: |0>─────┤ X ├┤ H ├─╫───■───────┤M├─────┤M├──────────────────────────────»\n",
       "              └───┘└───┘ ║ ┌─┴─┐┌───┐└╥┘     └╥┘     ┌─┐     ┌─┐              »\n",
       "q1_2: |0>────────────────╫─┤ X ├┤ H ├─╫───■───╫──────┤M├─────┤M├──────────────»\n",
       "                         ║ └───┘└───┘ ║ ┌─┴─┐ ║ ┌───┐└╥┘     └╥┘┌─┐        ┌─┐»\n",
       "q1_3: |0>────────────────╫────────────╫─┤ X ├─╫─┤ H ├─╫───■───╫─┤M├────────┤M├»\n",
       "                         ║            ║ └───┘ ║ └───┘ ║ ┌─┴─┐ ║ └╥┘┌─┐┌───┐└╥┘»\n",
       "q1_4: |0>────────────────╫────────────╫───────╫───────╫─┤ X ├─╫──╫─┤M├┤ H ├─╫─»\n",
       "                         ║            ║       ║       ║ └───┘ ║  ║ └╥┘└───┘ ║ »\n",
       " c1_0: 0 ════════════════╩════════════╬═══════╬═══════╬═══════╬══╬══╬═══════╬═»\n",
       "                                      ║       ║       ║       ║  ║  ║       ║ »\n",
       " c1_1: 0 ═════════════════════════════╩═══════╩═══════╬═══════╬══╬══╬═══════╬═»\n",
       "                                                      ║       ║  ║  ║       ║ »\n",
       " c1_2: 0 ═════════════════════════════════════════════╩═══════╩══╬══╬═══════╬═»\n",
       "                                                                 ║  ║       ║ »\n",
       " c1_3: 0 ════════════════════════════════════════════════════════╩══╬═══════╩═»\n",
       "                                                                    ║         »\n",
       " c1_4: 0 ═══════════════════════════════════════════════════════════╩═════════»\n",
       "                                                                              »\n",
       "«      ┌───┐┌─┐   \n",
       "«q1_0: ┤ X ├┤M├───\n",
       "«      └─┬─┘└╥┘   \n",
       "«q1_1: ──┼───╫────\n",
       "«        │   ║    \n",
       "«q1_2: ──┼───╫────\n",
       "«        │   ║    \n",
       "«q1_3: ──┼───╫────\n",
       "«        │   ║ ┌─┐\n",
       "«q1_4: ──■───╫─┤M├\n",
       "«            ║ └╥┘\n",
       "«c1_0: ══════╩══╬═\n",
       "«               ║ \n",
       "«c1_1: ═════════╬═\n",
       "«               ║ \n",
       "«c1_2: ═════════╬═\n",
       "«               ║ \n",
       "«c1_3: ═════════╬═\n",
       "«               ║ \n",
       "«c1_4: ═════════╩═\n",
       "«                 </pre>"
      ],
      "text/plain": [
       "<qiskit.visualization.text.TextDrawing at 0x1e6df8e8908>"
      ]
     },
     "execution_count": 70,
     "metadata": {},
     "output_type": "execute_result"
    }
   ],
   "source": [
    "circuit.draw()"
   ]
  },
  {
   "cell_type": "code",
   "execution_count": 59,
   "metadata": {},
   "outputs": [
    {
     "data": {
      "text/plain": [
       "<qiskit.circuit.instructionset.InstructionSet at 0x1e6deb75c48>"
      ]
     },
     "execution_count": 59,
     "metadata": {},
     "output_type": "execute_result"
    }
   ],
   "source": [
    "circuit.h(qr[4])"
   ]
  },
  {
   "cell_type": "code",
   "execution_count": 60,
   "metadata": {},
   "outputs": [
    {
     "data": {
      "text/plain": [
       "<qiskit.circuit.instructionset.InstructionSet at 0x1e6debc2d88>"
      ]
     },
     "execution_count": 60,
     "metadata": {},
     "output_type": "execute_result"
    }
   ],
   "source": [
    "circuit.cx(qr[4], qr[0])"
   ]
  },
  {
   "cell_type": "code",
   "execution_count": 62,
   "metadata": {},
   "outputs": [
    {
     "data": {
      "text/plain": [
       "<qiskit.circuit.instructionset.InstructionSet at 0x1e6dec70688>"
      ]
     },
     "execution_count": 62,
     "metadata": {},
     "output_type": "execute_result"
    }
   ],
   "source": [
    "circuit.measure(qr,cr)"
   ]
  },
  {
   "cell_type": "code",
   "execution_count": 66,
   "metadata": {},
   "outputs": [],
   "source": [
    "simulator = Aer.get_backend('qasm_simulator')"
   ]
  },
  {
   "cell_type": "code",
   "execution_count": 67,
   "metadata": {},
   "outputs": [],
   "source": [
    "result = execute(circuit, backend = simulator).result()"
   ]
  },
  {
   "cell_type": "code",
   "execution_count": 68,
   "metadata": {},
   "outputs": [],
   "source": [
    "from qiskit.tools.visualization import plot_histogram"
   ]
  },
  {
   "cell_type": "code",
   "execution_count": 69,
   "metadata": {},
   "outputs": [
    {
     "data": {
      "image/png": "[encoded data removed]",
      "text/plain": [
       "<Figure size 504x360 with 1 Axes>"
      ]
     },
     "execution_count": 69,
     "metadata": {},
     "output_type": "execute_result"
    }
   ],
   "source": [
    "plot_histogram(result.get_counts(circuit))"
   ]
  }
 ],
 "metadata": {
  "kernelspec": {
   "display_name": "Python 3",
   "language": "python",
   "name": "python3"
  },
  "language_info": {
   "codemirror_mode": {
    "name": "ipython",
    "version": 3
   },
   "file_extension": ".py",
   "mimetype": "text/x-python",
   "name": "python",
   "nbconvert_exporter": "python",
   "pygments_lexer": "ipython3",
   "version": "3.7.4"
  }
 },
 "nbformat": 4,
 "nbformat_minor": 2
}
